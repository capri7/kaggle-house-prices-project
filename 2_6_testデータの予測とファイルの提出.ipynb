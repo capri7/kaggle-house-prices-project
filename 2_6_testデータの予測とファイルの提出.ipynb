{
 "cells": [
  {
   "cell_type": "code",
   "execution_count": 1,
   "id": "225b0cf0-7dea-4625-803b-261074ecd8a3",
   "metadata": {},
   "outputs": [
    {
     "name": "stdout",
     "output_type": "stream",
     "text": [
      "\n",
      "データの行数: 1459\n",
      "データの列数: 22\n",
      "   TotalArea  QualityScore  OverallQual  GrLivArea  GarageScore  ExterQual  \\\n",
      "0  -0.592104     -1.062297    -0.795151  -1.262931    -0.349711  -0.689604   \n",
      "1  -0.062643     -0.490728    -0.071836  -0.363117    -0.962773  -0.689604   \n",
      "2   0.016432     -0.490728    -0.795151   0.260310    -0.006514  -0.689604   \n",
      "3  -0.028262      0.080842    -0.071836   0.208358    -0.041714  -0.689604   \n",
      "4   0.047375      1.223981     1.374795  -0.464944     0.063885   1.052302   \n",
      "\n",
      "   KitchenQual  GarageCars  BsmtQual  GarageArea  ...  1stFlrSF  \\\n",
      "0    -0.771091   -1.030859 -0.833633    1.252588  ... -0.720132   \n",
      "1     0.735994   -1.030859 -0.833633   -0.766396  ...  0.474487   \n",
      "2    -0.771091    0.315946  0.641645    0.054722  ... -0.631846   \n",
      "3     0.735994    0.315946 -0.833633   -0.003240  ... -0.637364   \n",
      "4     0.735994    0.315946  0.641645    0.170644  ...  0.339299   \n",
      "\n",
      "   AvgQualityCondition  QualityCondition  FullBath  YearBuilt  YearRemodAdd  \\\n",
      "0            -0.398511         -0.419291 -1.026041  -0.342192     -1.156380   \n",
      "1             0.192175          0.231717 -1.026041  -0.441866     -1.301740   \n",
      "2            -0.989197         -0.961799  0.789741   0.853898      0.636400   \n",
      "3             0.192175          0.231717  0.789741   0.887122      0.636400   \n",
      "4             0.782861          0.665723  0.789741   0.687774      0.345679   \n",
      "\n",
      "   TotalRooms  TotRmsAbvGrd    Id      SalePrice  \n",
      "0   -0.965151     -0.965151  1461  127893.449143  \n",
      "1   -0.316385     -0.316385  1462  154157.039617  \n",
      "2   -0.316385     -0.316385  1463  165214.304381  \n",
      "3    0.332382      0.332382  1464  178770.622678  \n",
      "4   -0.965151     -0.965151  1465  208825.434472  \n",
      "\n",
      "[5 rows x 22 columns]\n",
      "予測結果を保存しました: /Users/hayakawakazue/Downloads/house_price/test/test_data_predicted.csv\n"
     ]
    }
   ],
   "source": [
    "import pandas as pd\n",
    "import joblib\n",
    "\n",
    "# 数値データのみのテストデータを読み込む\n",
    "test_data_path = '/Users/hayakawakazue/Downloads/house_price/test/test_preprocessed.csv'\n",
    "test_data = pd.read_csv(test_data_path)\n",
    "\n",
    "# モデルの読み込み\n",
    "model_path = '/Users/hayakawakazue/Downloads/house_price/model/random_forest_best.joblib'\n",
    "model = joblib.load(model_path)\n",
    "\n",
    "# 重要な特徴量のリスト\n",
    "important_features = [\n",
    "    'TotalArea', 'QualityScore', 'OverallQual', 'GrLivArea', \n",
    "    'GarageScore', 'ExterQual', 'KitchenQual', \n",
    "    'GarageCars', 'BsmtQual', 'GarageArea', 'TotalBsmtSF', \n",
    "    'BsmtQualityIndex', '1stFlrSF', 'AvgQualityCondition', 'QualityCondition',\n",
    "    'FullBath', 'YearBuilt', 'YearRemodAdd', 'TotalRooms', 'TotRmsAbvGrd'\n",
    "]\n",
    "\n",
    "# テストデータから重要な特徴量を選択\n",
    "X_test = test_data[important_features]\n",
    "\n",
    "# 取引価格のログを予測\n",
    "y_pred_log = model.predict(X_test)\n",
    "\n",
    "# 予測結果をデータフレームに追加\n",
    "test_data['SalePrice'] = y_pred_log\n",
    "\n",
    "# 予測結果を保存\n",
    "predicted_test_path = '/Users/hayakawakazue/Downloads/house_price/test/test_data_predicted.csv'\n",
    "test_data.to_csv(predicted_test_path, index=False)\n",
    "\n",
    "# データの行数と列数をプリントする\n",
    "print(f\"\\nデータの行数: {test_data.shape[0]}\")\n",
    "print(f\"データの列数: {test_data.shape[1]}\")\n",
    "\n",
    "print(test_data.head())\n",
    "print(f\"予測結果を保存しました: {predicted_test_path}\")\n"
   ]
  },
  {
   "cell_type": "markdown",
   "id": "cd448cee-ff0e-4884-bb84-871802e6bf9c",
   "metadata": {},
   "source": [
    "# 予測したSalePriceを直接sample_submission.csvのSalePriceカラムに代入"
   ]
  },
  {
   "cell_type": "code",
   "execution_count": 2,
   "id": "a022aabc-c65c-47ce-a802-2e405a91ba5d",
   "metadata": {},
   "outputs": [
    {
     "name": "stdout",
     "output_type": "stream",
     "text": [
      "     Id      SalePrice\n",
      "0  1461  127893.449143\n",
      "1  1462  154157.039617\n",
      "2  1463  165214.304381\n",
      "3  1464  178770.622678\n",
      "4  1465  208825.434472\n",
      "予測結果を保存しました: /Users/hayakawakazue/Downloads/house_price/submission_2024_07_03.csv\n"
     ]
    }
   ],
   "source": [
    "import pandas as pd\n",
    "\n",
    "# データの読み込み\n",
    "sample_submission_path = '/Users/hayakawakazue/Downloads/house_price/sample_submission.csv'\n",
    "sample_submission = pd.read_csv(sample_submission_path)\n",
    "\n",
    "# 予測結果のデータ\n",
    "predicted_data_path = '/Users/hayakawakazue/Downloads/house_price/test/test_data_predicted.csv'\n",
    "predicted_data = pd.read_csv(predicted_data_path)\n",
    "\n",
    "# IDを軸にして予測データをマージ（左結合でsample_submissionの順序を保持）\n",
    "submission = pd.merge(sample_submission[['Id']], predicted_data[['Id', 'SalePrice']], on='Id', how='left')\n",
    "\n",
    "# ファイルの保存\n",
    "submission_path = '/Users/hayakawakazue/Downloads/house_price/submission_2024_07_03.csv'\n",
    "submission.to_csv(submission_path, index=False)\n",
    "\n",
    "# 結果の確認\n",
    "print(submission.head())\n",
    "print(f\"予測結果を保存しました: {submission_path}\")\n"
   ]
  },
  {
   "cell_type": "code",
   "execution_count": null,
   "id": "7d8f3496-2ecf-40d1-b867-1916db557aee",
   "metadata": {},
   "outputs": [],
   "source": []
  }
 ],
 "metadata": {
  "kernelspec": {
   "display_name": "Python 3 (ipykernel)",
   "language": "python",
   "name": "python3"
  },
  "language_info": {
   "codemirror_mode": {
    "name": "ipython",
    "version": 3
   },
   "file_extension": ".py",
   "mimetype": "text/x-python",
   "name": "python",
   "nbconvert_exporter": "python",
   "pygments_lexer": "ipython3",
   "version": "3.11.7"
  }
 },
 "nbformat": 4,
 "nbformat_minor": 5
}
