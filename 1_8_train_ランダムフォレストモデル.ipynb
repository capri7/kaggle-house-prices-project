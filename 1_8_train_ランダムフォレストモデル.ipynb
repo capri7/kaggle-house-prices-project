{
 "cells": [
  {
   "cell_type": "markdown",
   "id": "169d8da3-e37d-4e76-95e2-4f486a964f3f",
   "metadata": {},
   "source": [
    "# ランダムフォレストモデルでトレーニングする"
   ]
  },
  {
   "cell_type": "code",
   "execution_count": null,
   "id": "e91d568f-bb2c-40be-b210-bcfb0df84bf4",
   "metadata": {},
   "outputs": [],
   "source": [
    "!pip install numpy scikit-learn joblib\n",
    "!pip show scikit-learn"
   ]
  },
  {
   "cell_type": "code",
   "execution_count": 1,
   "id": "b320aa52-2fa4-4533-a3af-e034295e9be4",
   "metadata": {},
   "outputs": [
    {
     "name": "stdout",
     "output_type": "stream",
     "text": [
      "\n",
      "Features in cluster_0_important_features.csv:\n",
      "['SalePrice', 'OverallQual_TotalArea', 'OverallConditionArea', 'Age', 'BsmtUnfSF', 'YearBuilt', 'LotArea', 'log_LotArea', 'QualityScore', 'TotalArea', 'GrLivArea_OverallQual', 'RemodelAge', 'OverallQual_GrLivArea', 'GarageYrBlt', 'YearRemodAdd', 'TotalRmsAbvGrd_OverallCond', 'TotalBsmtSF_OverallQual']\n"
     ]
    }
   ],
   "source": [
    "import pandas as pd\n",
    "\n",
    "# データの読み込み\n",
    "data_path = '/Users/hayakawakazue/Downloads/house_price/train/cluster_0_important_features.csv'\n",
    "data = pd.read_csv(data_path)\n",
    "\n",
    "# 特徴量のリスト\n",
    "features = data.columns.tolist()\n",
    "print(\"\\nFeatures in cluster_0_important_features.csv:\")\n",
    "print(features)\n"
   ]
  },
  {
   "cell_type": "code",
   "execution_count": 3,
   "id": "3dbafbb9-ad28-4223-acea-b701827c215d",
   "metadata": {},
   "outputs": [
    {
     "name": "stdout",
     "output_type": "stream",
     "text": [
      "Best parameters found: {'max_depth': 10, 'max_features': 'sqrt', 'min_samples_leaf': 4, 'min_samples_split': 10, 'n_estimators': 300}\n",
      "Best cross-validation MAE: 12412.6574\n",
      "Mean Absolute Error (MAE): 13603.2021\n",
      "Mean Squared Error (MSE): 372299543.7194\n",
      "R-squared (R2): 0.6713\n",
      "Root Mean Squared Error (RMSE): 19295.0653\n",
      "最適なランダムフォレストモデルが /Users/hayakawakazue/Downloads/house_price/model/random_forest_Cluster_0711_0.joblib に保存されました。\n",
      "Mean Actual Value: 138287.8870056497\n",
      "Mean Absolute Percentage Error (MAPE): 9.84%\n"
     ]
    }
   ],
   "source": [
    "import pandas as pd\n",
    "import numpy as np\n",
    "from sklearn.model_selection import train_test_split, GridSearchCV\n",
    "from sklearn.ensemble import RandomForestRegressor\n",
    "from sklearn.metrics import mean_absolute_error, mean_squared_error, r2_score\n",
    "import os\n",
    "import joblib\n",
    "\n",
    "# データの読み込み\n",
    "data_path = '/Users/hayakawakazue/Downloads/house_price/train/cluster_0_important_features.csv'\n",
    "data = pd.read_csv(data_path)\n",
    "\n",
    "# 選択する特徴量と目的変数\n",
    "selected_features = [\n",
    "    'OverallQual_TotalArea', 'OverallConditionArea', 'Age', 'BsmtUnfSF', 'YearBuilt', \n",
    "    'LotArea', 'log_LotArea', 'QualityScore', 'TotalArea', 'GrLivArea_OverallQual', \n",
    "    'RemodelAge', 'OverallQual_GrLivArea', 'GarageYrBlt', 'YearRemodAdd', \n",
    "    'TotalRmsAbvGrd_OverallCond', 'TotalBsmtSF_OverallQual'\n",
    "]\n",
    "\n",
    "# 特徴量と目的変数を分ける\n",
    "X = data[selected_features]\n",
    "y = data['SalePrice']\n",
    "\n",
    "# 訓練データとテストデータに分割\n",
    "X_train, X_test, y_train, y_test = train_test_split(X, y, test_size=0.2, random_state=24)\n",
    "\n",
    "# データの前処理：nanを含む行を削除し、対応する y も削除\n",
    "X_train = X_train.dropna()\n",
    "y_train = y_train[X_train.index]\n",
    "\n",
    "X_test = X_test.dropna()\n",
    "y_test = y_test[X_test.index]\n",
    "\n",
    "# ハイパーパラメータの候補を設定\n",
    "param_grid = {\n",
    "    'n_estimators': [100, 200, 300],\n",
    "    'max_depth': [5, 7, 10],\n",
    "    'min_samples_split': [10, 15, 20],\n",
    "    'min_samples_leaf': [4, 6, 8],\n",
    "    'max_features': ['sqrt']\n",
    "}\n",
    "\n",
    "# ランダムフォレストモデルの定義\n",
    "model = RandomForestRegressor(random_state=24)\n",
    "\n",
    "# グリッドサーチの設定\n",
    "grid_search = GridSearchCV(estimator=model, param_grid=param_grid, cv=10, scoring='neg_mean_absolute_error', n_jobs=-1, verbose=0)\n",
    "\n",
    "# グリッドサーチの実行\n",
    "grid_search.fit(X_train, y_train)\n",
    "\n",
    "# 最適なハイパーパラメータの表示\n",
    "print(f\"Best parameters found: {grid_search.best_params_}\")\n",
    "print(f\"Best cross-validation MAE: {-grid_search.best_score_:.4f}\")\n",
    "\n",
    "# 最適なモデルを取得\n",
    "best_model = grid_search.best_estimator_\n",
    "\n",
    "# テストデータを使った予測\n",
    "y_pred = best_model.predict(X_test)\n",
    "\n",
    "# 評価指標の計算\n",
    "mae = mean_absolute_error(y_test, y_pred)\n",
    "mse = mean_squared_error(y_test, y_pred)\n",
    "r2 = r2_score(y_test, y_pred)\n",
    "rmse = np.sqrt(mean_squared_error(y_test, y_pred))\n",
    "\n",
    "# 結果の表示\n",
    "print(f\"Mean Absolute Error (MAE): {mae:.4f}\")\n",
    "print(f\"Mean Squared Error (MSE): {mse:.4f}\")\n",
    "print(f\"R-squared (R2): {r2:.4f}\")\n",
    "print(f\"Root Mean Squared Error (RMSE): {rmse:.4f}\")\n",
    "\n",
    "# 最適なモデルの保存\n",
    "model_path = os.path.join('/Users/hayakawakazue/Downloads/house_price/model', 'random_forest_Cluster_0711_0.joblib')\n",
    "joblib.dump(best_model, model_path)\n",
    "print(f\"最適なランダムフォレストモデルが {model_path} に保存されました。\")\n",
    "\n",
    "# 実際の値の平均を計算\n",
    "mean_actual_value = np.mean(y_test)\n",
    "print(f\"Mean Actual Value: {mean_actual_value}\")\n",
    "\n",
    "# 誤差のパーセンテージを計算\n",
    "error_percentage = (mae / mean_actual_value) * 100\n",
    "print(f\"Mean Absolute Percentage Error (MAPE): {error_percentage:.2f}%\")\n"
   ]
  },
  {
   "cell_type": "code",
   "execution_count": null,
   "id": "11f3c5c8-fdc3-4904-82c5-04a982259173",
   "metadata": {},
   "outputs": [],
   "source": []
  }
 ],
 "metadata": {
  "kernelspec": {
   "display_name": "Python 3 (ipykernel)",
   "language": "python",
   "name": "python3"
  },
  "language_info": {
   "codemirror_mode": {
    "name": "ipython",
    "version": 3
   },
   "file_extension": ".py",
   "mimetype": "text/x-python",
   "name": "python",
   "nbconvert_exporter": "python",
   "pygments_lexer": "ipython3",
   "version": "3.12.4"
  }
 },
 "nbformat": 4,
 "nbformat_minor": 5
}
