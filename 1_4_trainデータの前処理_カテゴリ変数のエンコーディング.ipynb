{
 "cells": [
  {
   "cell_type": "markdown",
   "id": "b3684e24-5c20-45e1-8993-45740a22a08f",
   "metadata": {},
   "source": [
    "# ユニークな値の確認"
   ]
  },
  {
   "cell_type": "code",
   "execution_count": 1,
   "id": "4cecf77e-5880-48e1-b811-184141997b05",
   "metadata": {},
   "outputs": [
    {
     "name": "stdout",
     "output_type": "stream",
     "text": [
      "Column: MSZoning\n",
      "Unique Values: ['RL' 'RM' 'C (all)' 'FV' 'RH']\n",
      "Number of Unique Values: 5\n",
      "\n",
      "Column: Street\n",
      "Unique Values: ['Pave' 'Grvl']\n",
      "Number of Unique Values: 2\n",
      "\n",
      "Column: LandContour\n",
      "Unique Values: ['Lvl' 'Bnk' 'Low' 'HLS']\n",
      "Number of Unique Values: 4\n",
      "\n",
      "Column: LotConfig\n",
      "Unique Values: ['Inside' 'FR2' 'Corner' 'CulDSac' 'FR3']\n",
      "Number of Unique Values: 5\n",
      "\n",
      "Column: Neighborhood\n",
      "Unique Values: ['CollgCr' 'Veenker' 'Crawfor' 'NoRidge' 'Mitchel' 'Somerst' 'NWAmes'\n",
      " 'OldTown' 'BrkSide' 'Sawyer' 'NridgHt' 'NAmes' 'SawyerW' 'IDOTRR'\n",
      " 'MeadowV' 'Edwards' 'Timber' 'Gilbert' 'StoneBr' 'ClearCr' 'NPkVill'\n",
      " 'Blmngtn' 'BrDale' 'SWISU' 'Blueste']\n",
      "Number of Unique Values: 25\n",
      "\n",
      "Column: Condition1\n",
      "Unique Values: ['Norm' 'Feedr' 'PosN' 'Artery' 'RRAe' 'RRNn' 'RRAn' 'PosA' 'RRNe']\n",
      "Number of Unique Values: 9\n",
      "\n",
      "Column: Condition2\n",
      "Unique Values: ['Norm' 'Artery' 'RRNn' 'Feedr' 'PosN' 'PosA' 'RRAn' 'RRAe']\n",
      "Number of Unique Values: 8\n",
      "\n",
      "Column: BldgType\n",
      "Unique Values: ['1Fam' '2fmCon' 'Duplex' 'TwnhsE' 'Twnhs']\n",
      "Number of Unique Values: 5\n",
      "\n",
      "Column: HouseStyle\n",
      "Unique Values: ['2Story' '1Story' '1.5Fin' '1.5Unf' 'SFoyer' 'SLvl' '2.5Unf' '2.5Fin']\n",
      "Number of Unique Values: 8\n",
      "\n",
      "Column: RoofStyle\n",
      "Unique Values: ['Gable' 'Hip' 'Gambrel' 'Mansard' 'Flat' 'Shed']\n",
      "Number of Unique Values: 6\n",
      "\n",
      "Column: RoofMatl\n",
      "Unique Values: ['CompShg' 'WdShngl' 'Metal' 'WdShake' 'Membran' 'Tar&Grv' 'Roll'\n",
      " 'ClyTile']\n",
      "Number of Unique Values: 8\n",
      "\n",
      "Column: Exterior1st\n",
      "Unique Values: ['VinylSd' 'MetalSd' 'Wd Sdng' 'HdBoard' 'BrkFace' 'WdShing' 'CemntBd'\n",
      " 'Plywood' 'AsbShng' 'Stucco' 'BrkComm' 'AsphShn' 'Stone' 'ImStucc'\n",
      " 'CBlock']\n",
      "Number of Unique Values: 15\n",
      "\n",
      "Column: Exterior2nd\n",
      "Unique Values: ['VinylSd' 'MetalSd' 'Wd Shng' 'HdBoard' 'Plywood' 'Wd Sdng' 'CmentBd'\n",
      " 'BrkFace' 'Stucco' 'AsbShng' 'Brk Cmn' 'ImStucc' 'AsphShn' 'Stone'\n",
      " 'Other' 'CBlock']\n",
      "Number of Unique Values: 16\n",
      "\n",
      "Column: Foundation\n",
      "Unique Values: ['PConc' 'CBlock' 'BrkTil' 'Wood' 'Slab' 'Stone']\n",
      "Number of Unique Values: 6\n",
      "\n",
      "Column: Heating\n",
      "Unique Values: ['GasA' 'GasW' 'Grav' 'Wall' 'OthW' 'Floor']\n",
      "Number of Unique Values: 6\n",
      "\n",
      "Column: CentralAir\n",
      "Unique Values: ['Y' 'N']\n",
      "Number of Unique Values: 2\n",
      "\n",
      "Column: GarageType\n",
      "Unique Values: ['Attchd' 'Detchd' 'BuiltIn' 'CarPort' 'Basment' '2Types']\n",
      "Number of Unique Values: 6\n",
      "\n",
      "Column: PavedDrive\n",
      "Unique Values: ['Y' 'N' 'P']\n",
      "Number of Unique Values: 3\n",
      "\n",
      "Column: SaleType\n",
      "Unique Values: ['WD' 'New' 'COD' 'ConLD' 'ConLI' 'CWD' 'ConLw' 'Con' 'Oth']\n",
      "Number of Unique Values: 9\n",
      "\n",
      "Column: SaleCondition\n",
      "Unique Values: ['Normal' 'Abnorml' 'Partial' 'AdjLand' 'Alloca' 'Family']\n",
      "Number of Unique Values: 6\n",
      "\n"
     ]
    }
   ],
   "source": [
    "import pandas as pd\n",
    "\n",
    "# データの読み込み\n",
    "data_path = '/Users/hayakawakazue/Downloads/house_price/train/train_new_feature_engineered_draft.csv'\n",
    "train_df = pd.read_csv(data_path)\n",
    "\n",
    "# カテゴリ変数とオブジェクト変数のリストを取得\n",
    "encoding_columns = train_df.select_dtypes(include=['category', 'object']).columns\n",
    "\n",
    "# 各カテゴリ変数とオブジェクト変数のユニークな値を表示\n",
    "for col in encoding_columns:\n",
    "    unique_values = train_df[col].unique()\n",
    "    print(f\"Column: {col}\")\n",
    "    print(f\"Unique Values: {unique_values}\")\n",
    "    print(f\"Number of Unique Values: {len(unique_values)}\\n\")\n"
   ]
  },
  {
   "cell_type": "code",
   "execution_count": 3,
   "id": "f77ed629-190b-4fd3-93aa-6f3280676367",
   "metadata": {},
   "outputs": [
    {
     "name": "stdout",
     "output_type": "stream",
     "text": [
      "Series([], dtype: int64)\n"
     ]
    }
   ],
   "source": [
    "import pandas as pd\n",
    "\n",
    "# データの読み込み\n",
    "data_path = '/Users/hayakawakazue/Downloads/house_price/train/train_new_feature_engineered_draft.csv'\n",
    "data = pd.read_csv(data_path)\n",
    "\n",
    "# 各列の欠損値の数を計算\n",
    "missing_values = data.isna().sum()\n",
    "\n",
    "# 欠損値がある列のみ表示（欠損値が0の列は表示しない）\n",
    "missing_values = missing_values[missing_values > 0]\n",
    "print(missing_values)\n"
   ]
  },
  {
   "cell_type": "markdown",
   "id": "02c599a7-fe09-4af2-8466-79ea37d9132a",
   "metadata": {},
   "source": [
    "# ワンホットエンコーダを適用"
   ]
  },
  {
   "cell_type": "code",
   "execution_count": 2,
   "id": "991cd914-2776-4460-bfda-d0424a4fd9df",
   "metadata": {},
   "outputs": [
    {
     "name": "stdout",
     "output_type": "stream",
     "text": [
      "カテゴリ変数をエンコードしたデータを保存しました: /Users/hayakawakazue/Downloads/house_price/train/train_encoded.csv\n"
     ]
    }
   ],
   "source": [
    "from sklearn.preprocessing import OneHotEncoder\n",
    "import pandas as pd\n",
    "import joblib\n",
    "import numpy as np\n",
    "\n",
    "# データの読み込み\n",
    "data_path = '/Users/hayakawakazue/Downloads/house_price/train/train_new_feature_engineered_draft.csv'\n",
    "train_df = pd.read_csv(data_path)\n",
    "\n",
    "# ワンホットエンコーダーの初期化\n",
    "onehot_encoder = OneHotEncoder(sparse_output=False, handle_unknown='ignore')\n",
    "\n",
    "# エンコードするカテゴリ変数のリスト\n",
    "categorical_columns = ['MSZoning', 'Street', 'LandContour', 'LotConfig', 'Neighborhood', \n",
    "                       'Condition1', 'Condition2', 'BldgType', 'HouseStyle', 'RoofStyle', \n",
    "                       'RoofMatl', 'Exterior1st', 'Exterior2nd', 'Foundation', 'Heating', \n",
    "                       'CentralAir', 'GarageType', 'PavedDrive', 'SaleType', 'SaleCondition']\n",
    "\n",
    "# ワンホットエンコーディングを適用\n",
    "encoded_categorical_data = onehot_encoder.fit_transform(train_df[categorical_columns])\n",
    "encoded_categorical_df = pd.DataFrame(encoded_categorical_data, columns=onehot_encoder.get_feature_names_out(categorical_columns))\n",
    "\n",
    "# 元のデータフレームにエンコードしたデータを結合\n",
    "train_df = train_df.drop(columns=categorical_columns)\n",
    "train_df = pd.concat([train_df, encoded_categorical_df], axis=1)\n",
    "\n",
    "# エンコーダの保存\n",
    "joblib.dump(onehot_encoder, '/Users/hayakawakazue/Downloads/house_price/model/onehot_encoder.joblib')\n",
    "\n",
    "# データを保存\n",
    "output_path = '/Users/hayakawakazue/Downloads/house_price/train/train_encoded.csv'\n",
    "train_df.to_csv(output_path, index=False)\n",
    "\n",
    "print(f\"カテゴリ変数をエンコードしたデータを保存しました: {output_path}\")\n"
   ]
  },
  {
   "cell_type": "code",
   "execution_count": null,
   "id": "8430aa2b-c3bf-40b9-becb-e289d631026a",
   "metadata": {},
   "outputs": [],
   "source": []
  }
 ],
 "metadata": {
  "kernelspec": {
   "display_name": "Python 3 (ipykernel)",
   "language": "python",
   "name": "python3"
  },
  "language_info": {
   "codemirror_mode": {
    "name": "ipython",
    "version": 3
   },
   "file_extension": ".py",
   "mimetype": "text/x-python",
   "name": "python",
   "nbconvert_exporter": "python",
   "pygments_lexer": "ipython3",
   "version": "3.12.4"
  }
 },
 "nbformat": 4,
 "nbformat_minor": 5
}
