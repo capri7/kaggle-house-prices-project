{
 "cells": [
  {
   "cell_type": "code",
   "execution_count": 1,
   "id": "af218524-334f-448b-922d-e9980f2f2331",
   "metadata": {},
   "outputs": [
    {
     "name": "stdout",
     "output_type": "stream",
     "text": [
      "   TotalArea  QualityScore  OverallQual  GrLivArea  GarageScore  ExterQual  \\\n",
      "0  -0.592104     -1.062297    -0.795151  -1.262931    -0.349711  -0.689604   \n",
      "1  -0.062643     -0.490728    -0.071836  -0.363117    -0.962773  -0.689604   \n",
      "2   0.016432     -0.490728    -0.795151   0.260310    -0.006514  -0.689604   \n",
      "3  -0.028262      0.080842    -0.071836   0.208358    -0.041714  -0.689604   \n",
      "4   0.047375      1.223981     1.374795  -0.464944     0.063885   1.052302   \n",
      "\n",
      "   KitchenQual  GarageCars  BsmtQual  GarageArea  ...  BsmtQualityIndex  \\\n",
      "0    -0.771091   -1.030859 -0.833633    1.252588  ...         -0.727880   \n",
      "1     0.735994   -1.030859 -0.833633   -0.766396  ...         -0.727880   \n",
      "2    -0.771091    0.315946  0.641645    0.054722  ...          0.502577   \n",
      "3     0.735994    0.315946 -0.833633   -0.003240  ...         -0.727880   \n",
      "4     0.735994    0.315946  0.641645    0.170644  ...          0.502577   \n",
      "\n",
      "   1stFlrSF  AvgQualityCondition  QualityCondition  FullBath  YearBuilt  \\\n",
      "0 -0.720132            -0.398511         -0.419291 -1.026041  -0.342192   \n",
      "1  0.474487             0.192175          0.231717 -1.026041  -0.441866   \n",
      "2 -0.631846            -0.989197         -0.961799  0.789741   0.853898   \n",
      "3 -0.637364             0.192175          0.231717  0.789741   0.887122   \n",
      "4  0.339299             0.782861          0.665723  0.789741   0.687774   \n",
      "\n",
      "   YearRemodAdd  TotalRooms  TotRmsAbvGrd    Id  \n",
      "0     -1.156380   -0.965151     -0.965151  1461  \n",
      "1     -1.301740   -0.316385     -0.316385  1462  \n",
      "2      0.636400   -0.316385     -0.316385  1463  \n",
      "3      0.636400    0.332382      0.332382  1464  \n",
      "4      0.345679   -0.965151     -0.965151  1465  \n",
      "\n",
      "[5 rows x 21 columns]\n",
      "予測の準備が出来たデータセットを保存しました: /Users/hayakawakazue/Downloads/house_price/test/test_preprocessed.csv\n"
     ]
    }
   ],
   "source": [
    "import pandas as pd\n",
    "import joblib\n",
    "from sklearn.preprocessing import StandardScaler\n",
    "\n",
    "# 数値データのみのテストデータを読み込む\n",
    "test_data_path = '/Users/hayakawakazue/Downloads/house_price/test/test_encoded.csv'\n",
    "test_data = pd.read_csv(test_data_path)\n",
    "\n",
    "# 重要な特徴量のリスト\n",
    "important_features = [\n",
    "    'TotalArea', 'QualityScore', 'OverallQual', 'GrLivArea', \n",
    "    'GarageScore', 'ExterQual', 'KitchenQual', \n",
    "    'GarageCars', 'BsmtQual', 'GarageArea', 'TotalBsmtSF', \n",
    "    'BsmtQualityIndex', '1stFlrSF', 'AvgQualityCondition', 'QualityCondition',\n",
    "    'FullBath', 'YearBuilt', 'YearRemodAdd', 'TotalRooms', 'TotRmsAbvGrd'\n",
    "]\n",
    "\n",
    "# テストデータから重要な特徴量を選択\n",
    "X_test = test_data[important_features]\n",
    "\n",
    "# スケーラーを読み込む\n",
    "scaler_path = '/Users/hayakawakazue/Downloads/house_price/model/train_scaler.joblib'\n",
    "scaler = joblib.load(scaler_path)\n",
    "\n",
    "# スケーリングの適用\n",
    "X_test_scaled = scaler.transform(X_test)\n",
    "\n",
    "# 前処理後のデータフレームに変換\n",
    "X_test_scaled_df = pd.DataFrame(X_test_scaled, columns=important_features)\n",
    "\n",
    "# ID列を保持するために結合\n",
    "X_test_scaled_df['Id'] = test_data['Id'].values\n",
    "\n",
    "# 前処理済みのデータを保存\n",
    "preprocessed_test_path = '/Users/hayakawakazue/Downloads/house_price/test/test_preprocessed.csv'\n",
    "X_test_scaled_df.to_csv(preprocessed_test_path, index=False)\n",
    "\n",
    "print(X_test_scaled_df.head())\n",
    "\n",
    "print(f\"予測の準備が出来たデータセットを保存しました: {preprocessed_test_path}\")\n"
   ]
  },
  {
   "cell_type": "code",
   "execution_count": null,
   "id": "86d10ab3-4c60-4479-9ac1-9afc8e5ac7d5",
   "metadata": {},
   "outputs": [],
   "source": []
  }
 ],
 "metadata": {
  "kernelspec": {
   "display_name": "Python 3 (ipykernel)",
   "language": "python",
   "name": "python3"
  },
  "language_info": {
   "codemirror_mode": {
    "name": "ipython",
    "version": 3
   },
   "file_extension": ".py",
   "mimetype": "text/x-python",
   "name": "python",
   "nbconvert_exporter": "python",
   "pygments_lexer": "ipython3",
   "version": "3.11.7"
  }
 },
 "nbformat": 4,
 "nbformat_minor": 5
}
