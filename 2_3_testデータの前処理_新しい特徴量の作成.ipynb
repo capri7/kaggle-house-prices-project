{
 "cells": [
  {
   "cell_type": "markdown",
   "id": "9bfd9023-7dbc-4c09-8306-ce5240edb5e5",
   "metadata": {},
   "source": [
    "# 1.データ型の確認をする"
   ]
  },
  {
   "cell_type": "code",
   "execution_count": 2,
   "id": "5d01e82c-1956-4174-a909-da44c1c30906",
   "metadata": {},
   "outputs": [
    {
     "data": {
      "text/plain": [
       "Id                 int64\n",
       "MSSubClass         int64\n",
       "MSZoning          object\n",
       "LotFrontage      float64\n",
       "LotArea          float64\n",
       "Street            object\n",
       "LotShape           int64\n",
       "LandContour       object\n",
       "Utilities          int64\n",
       "LotConfig         object\n",
       "LandSlope          int64\n",
       "Neighborhood      object\n",
       "Condition1        object\n",
       "Condition2        object\n",
       "BldgType          object\n",
       "HouseStyle        object\n",
       "OverallQual        int64\n",
       "OverallCond        int64\n",
       "YearBuilt          int64\n",
       "YearRemodAdd       int64\n",
       "RoofStyle         object\n",
       "RoofMatl          object\n",
       "Exterior1st       object\n",
       "Exterior2nd       object\n",
       "ExterQual          int64\n",
       "Foundation        object\n",
       "BsmtQual           int64\n",
       "BsmtCond           int64\n",
       "BsmtExposure       int64\n",
       "BsmtFinType1       int64\n",
       "BsmtFinType2       int64\n",
       "BsmtUnfSF        float64\n",
       "TotalBsmtSF      float64\n",
       "Heating           object\n",
       "HeatingQC          int64\n",
       "CentralAir        object\n",
       "Electrical         int64\n",
       "1stFlrSF           int64\n",
       "GrLivArea        float64\n",
       "FullBath         float64\n",
       "BedroomAbvGr     float64\n",
       "KitchenAbvGr       int64\n",
       "KitchenQual        int64\n",
       "TotRmsAbvGrd       int64\n",
       "Functional         int64\n",
       "GarageType        object\n",
       "GarageYrBlt      float64\n",
       "GarageFinish       int64\n",
       "GarageCars       float64\n",
       "GarageArea       float64\n",
       "GarageQual         int64\n",
       "GarageCond         int64\n",
       "PavedDrive        object\n",
       "MoSold             int64\n",
       "YrSold             int64\n",
       "SaleType          object\n",
       "SaleCondition     object\n",
       "dtype: object"
      ]
     },
     "execution_count": 2,
     "metadata": {},
     "output_type": "execute_result"
    }
   ],
   "source": [
    "import pandas as pd\n",
    "import numpy as np\n",
    "\n",
    "# データの読み込み\n",
    "data_path = '/Users/hayakawakazue/Downloads/house_price/test/test18.csv'\n",
    "test_df = pd.read_csv(data_path)\n",
    "\n",
    "test_df.dtypes"
   ]
  },
  {
   "cell_type": "markdown",
   "id": "ff4d3daa-6318-463d-abea-a426d8993115",
   "metadata": {},
   "source": [
    "# 2. 新しい特徴量を作成する"
   ]
  },
  {
   "cell_type": "code",
   "execution_count": 9,
   "id": "d9bccc95-3079-4083-8be2-c5742ba26bd7",
   "metadata": {},
   "outputs": [
    {
     "name": "stdout",
     "output_type": "stream",
     "text": [
      "新しい特徴量を追加してデータを保存しました: /Users/hayakawakazue/Downloads/house_price/test/test_new_feature_engineered_draft.csv\n"
     ]
    }
   ],
   "source": [
    "import pandas as pd\n",
    "import numpy as np\n",
    "import seaborn as sns\n",
    "import matplotlib.pyplot as plt\n",
    "import os\n",
    "\n",
    "# 日本語フォントの設定\n",
    "plt.rcParams['font.sans-serif'] = ['Hiragino Maru Gothic Pro']  # Mac用\n",
    "plt.rcParams['axes.unicode_minus'] = False\n",
    "\n",
    "# データの読み込み\n",
    "data_path = '/Users/hayakawakazue/Downloads/house_price/test/test18.csv'\n",
    "test_df = pd.read_csv(data_path)\n",
    "\n",
    "# 数値型データの処理\n",
    "numeric_cols = test_df.select_dtypes(include=[np.number]).columns\n",
    "test_df[numeric_cols] = test_df[numeric_cols].replace([np.inf, -np.inf], np.nan)  # 無限大の値をNaNに置き換え\n",
    "test_df[numeric_cols] = test_df[numeric_cols].fillna(test_df[numeric_cols].median())  # NaNを中央値で置き換える\n",
    "\n",
    "# 新しい特徴量の作成\n",
    "test_df['GrLivArea_OverallQual'] = test_df['GrLivArea'] * test_df['OverallQual']\n",
    "# test_df['GarageArea_OverallQual'] = test_df['GarageArea'] * test_df['OverallQual']\n",
    "test_df['TotalBsmtSF_OverallQual'] = test_df['TotalBsmtSF'] * test_df['OverallQual']\n",
    "# test_df['GarageArea_TotalBsmtSF'] = test_df['GarageArea'] + test_df['TotalBsmtSF']\n",
    "test_df['YearBuilt_YearRemodAdd'] = test_df['YearBuilt'] - test_df['YearRemodAdd']\n",
    "test_df['TotalArea'] = test_df['GrLivArea'] + test_df['TotalBsmtSF'] + test_df['GarageArea']\n",
    "test_df['QualityScore'] = test_df['OverallQual'] * test_df['ExterQual'] * test_df['KitchenQual'] * test_df['BsmtQual'] * test_df['GarageQual']\n",
    "test_df['Age'] = test_df['YrSold'] - test_df['YearBuilt']\n",
    "test_df['RemodelAge'] = test_df['YrSold'] - test_df['YearRemodAdd']\n",
    "test_df['OverallConditionArea'] = test_df['OverallCond'] * test_df['TotalArea']\n",
    "\n",
    "# 新しい特徴量の追加(低価格の予測）\n",
    "test_df['TotalRmsAbvGrd_OverallCond'] = test_df['TotRmsAbvGrd'] * test_df['OverallCond']\n",
    "# test_df['Neighborhood_LotArea'] = test_df['Neighborhood'] * test_df['LotArea']\n",
    "test_df['Functional_OverallQual'] = test_df['Functional'] * test_df['OverallQual']\n",
    "\n",
    "#新しい特徴量の追加（高価格の予測)\n",
    "test_df['log_LotArea'] = np.log1p(test_df['LotArea'])\n",
    "test_df['sqrt_GrLivArea'] = np.sqrt(test_df['GrLivArea'])\n",
    "test_df['OverallQual_GrLivArea'] = test_df['OverallQual'] * test_df['GrLivArea']\n",
    "\n",
    "# 新しい特徴量の作成例：ログ変換、平方根変換、相互作用項など\n",
    "test_df['log_1stFlrSF'] = np.log1p(test_df['1stFlrSF'])\n",
    "test_df['sqrt_TotalBsmtSF'] = np.sqrt(test_df['TotalBsmtSF'])\n",
    "test_df['OverallQual_TotalArea'] = test_df['OverallQual'] * test_df['TotalArea']\n",
    "test_df['BsmtQual_ExterQual'] = test_df['BsmtQual'] * test_df['ExterQual']\n",
    "\n",
    "# ディレクトリが存在するか確認し、存在しない場合は作成\n",
    "save_dir = '/Users/hayakawakazue/Downloads/house_price/test'\n",
    "if not os.path.exists(save_dir):\n",
    "    os.makedirs(save_dir)\n",
    "\n",
    "# 保存\n",
    "data_cleaned_path = os.path.join(save_dir, 'test_new_feature_engineered_draft.csv')\n",
    "test_df.to_csv(data_cleaned_path, index=False)\n",
    "\n",
    "print(f\"新しい特徴量を追加してデータを保存しました: {data_cleaned_path}\")\n"
   ]
  },
  {
   "cell_type": "code",
   "execution_count": null,
   "id": "3e8b4b0b-65a3-49d2-856b-8c8a67f4b610",
   "metadata": {},
   "outputs": [],
   "source": []
  }
 ],
 "metadata": {
  "kernelspec": {
   "display_name": "Python 3 (ipykernel)",
   "language": "python",
   "name": "python3"
  },
  "language_info": {
   "codemirror_mode": {
    "name": "ipython",
    "version": 3
   },
   "file_extension": ".py",
   "mimetype": "text/x-python",
   "name": "python",
   "nbconvert_exporter": "python",
   "pygments_lexer": "ipython3",
   "version": "3.12.4"
  }
 },
 "nbformat": 4,
 "nbformat_minor": 5
}
