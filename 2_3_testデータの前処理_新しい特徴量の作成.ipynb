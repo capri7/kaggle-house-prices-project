{
 "cells": [
  {
   "cell_type": "markdown",
   "id": "9bfd9023-7dbc-4c09-8306-ce5240edb5e5",
   "metadata": {},
   "source": [
    "# 1.データ型の確認をする"
   ]
  },
  {
   "cell_type": "code",
   "execution_count": 1,
   "id": "5d01e82c-1956-4174-a909-da44c1c30906",
   "metadata": {},
   "outputs": [
    {
     "data": {
      "text/plain": [
       "Id                 int64\n",
       "MSSubClass         int64\n",
       "MSZoning          object\n",
       "LotFrontage      float64\n",
       "LotArea          float64\n",
       "Street            object\n",
       "LotShape          object\n",
       "LandContour       object\n",
       "Utilities         object\n",
       "LotConfig         object\n",
       "LandSlope         object\n",
       "Neighborhood      object\n",
       "Condition1        object\n",
       "Condition2        object\n",
       "BldgType          object\n",
       "HouseStyle        object\n",
       "OverallQual        int64\n",
       "OverallCond        int64\n",
       "YearBuilt          int64\n",
       "YearRemodAdd       int64\n",
       "RoofStyle         object\n",
       "RoofMatl          object\n",
       "Exterior1st       object\n",
       "Exterior2nd       object\n",
       "ExterQual          int64\n",
       "Foundation        object\n",
       "BsmtQual           int64\n",
       "BsmtCond           int64\n",
       "BsmtExposure      object\n",
       "BsmtFinType1      object\n",
       "BsmtFinType2      object\n",
       "BsmtUnfSF        float64\n",
       "TotalBsmtSF      float64\n",
       "Heating           object\n",
       "HeatingQC          int64\n",
       "CentralAir        object\n",
       "Electrical        object\n",
       "1stFlrSF           int64\n",
       "GrLivArea        float64\n",
       "FullBath         float64\n",
       "BedroomAbvGr     float64\n",
       "KitchenAbvGr       int64\n",
       "KitchenQual        int64\n",
       "TotRmsAbvGrd       int64\n",
       "Functional        object\n",
       "GarageType        object\n",
       "GarageYrBlt      float64\n",
       "GarageFinish      object\n",
       "GarageCars       float64\n",
       "GarageArea       float64\n",
       "GarageQual         int64\n",
       "GarageCond         int64\n",
       "PavedDrive        object\n",
       "MoSold             int64\n",
       "YrSold             int64\n",
       "SaleType          object\n",
       "SaleCondition     object\n",
       "dtype: object"
      ]
     },
     "execution_count": 1,
     "metadata": {},
     "output_type": "execute_result"
    }
   ],
   "source": [
    "import pandas as pd\n",
    "import numpy as np\n",
    "\n",
    "# データの読み込み\n",
    "data_path = '/Users/hayakawakazue/Downloads/house_price/test/test18.csv'\n",
    "test_df = pd.read_csv(data_path)\n",
    "\n",
    "test_df.dtypes"
   ]
  },
  {
   "cell_type": "markdown",
   "id": "ff4d3daa-6318-463d-abea-a426d8993115",
   "metadata": {},
   "source": [
    "# 2. 新しい特徴量を作成する"
   ]
  },
  {
   "cell_type": "code",
   "execution_count": 2,
   "id": "d9bccc95-3079-4083-8be2-c5742ba26bd7",
   "metadata": {},
   "outputs": [
    {
     "name": "stdout",
     "output_type": "stream",
     "text": [
      "新しい特徴量を追加してデータを保存しました: /Users/hayakawakazue/Downloads/house_price/test/test_new_feature_engineered.csv\n"
     ]
    }
   ],
   "source": [
    "import pandas as pd\n",
    "import numpy as np\n",
    "import seaborn as sns\n",
    "import matplotlib.pyplot as plt\n",
    "import os\n",
    "\n",
    "# 日本語フォントの設定\n",
    "plt.rcParams['font.sans-serif'] = ['Hiragino Maru Gothic Pro']  # Mac用\n",
    "plt.rcParams['axes.unicode_minus'] = False\n",
    "\n",
    "# データの読み込み\n",
    "data_path = '/Users/hayakawakazue/Downloads/house_price/test/test18.csv'\n",
    "test_df = pd.read_csv(data_path)\n",
    "\n",
    "# 数値型データの処理\n",
    "numeric_cols = test_df.select_dtypes(include=[np.number]).columns\n",
    "test_df[numeric_cols] = test_df[numeric_cols].replace([np.inf, -np.inf], np.nan)  # 無限大の値をNaNに置き換え\n",
    "test_df[numeric_cols] = test_df[numeric_cols].fillna(0)  # NaNを0で置き換える\n",
    "\n",
    "# 新しい特徴量の作成\n",
    "test_df['TotalArea'] = test_df['GrLivArea'] + test_df['TotalBsmtSF'] + test_df['GarageArea']\n",
    "test_df['YearsSinceRemodel'] = test_df['YrSold'] - test_df['YearRemodAdd'] \n",
    "test_df['HouseAge'] = test_df['YrSold'] - test_df['YearBuilt'] \n",
    "test_df['AreaPerYearRatio'] = test_df['GrLivArea'] / np.maximum(test_df['HouseAge'], 1e-5)\n",
    "test_df['LotAreaSquared'] = test_df['LotArea'] ** 2\n",
    "test_df['AreaRatio'] = test_df['GrLivArea'] / np.maximum(test_df['LotArea'], 1e-5)\n",
    "test_df['InverseYearsSinceRemodel'] = 1 / np.maximum(test_df['YearsSinceRemodel'], 1e-5)\n",
    "test_df['Age'] = test_df['YrSold'] - test_df[['YearBuilt', 'YearRemodAdd']].max(axis=1)\n",
    "test_df['GarageAreaPerCar'] = test_df['GarageArea'] / np.maximum(test_df['GarageCars'], 1e-5)\n",
    "test_df['GarageScore'] = test_df['GarageCars'] * test_df['GarageArea']\n",
    "test_df['LotShapeQuality'] = test_df['LotArea'] * test_df['LotFrontage']\n",
    "test_df['HasBsmt'] = (test_df['TotalBsmtSF'] > 0).astype(int)\n",
    "test_df['TotalRooms'] = test_df['TotRmsAbvGrd'] + (test_df['BsmtQual'] > 0).astype(int) * 2  # 地下室を部屋数に加算\n",
    "test_df['QualityScore'] = test_df['OverallQual'] + test_df['ExterQual'] + test_df['KitchenQual'] + test_df['BsmtQual'] + test_df['HeatingQC']\n",
    "\n",
    "# BsmtQualとBsmtCondはすでに数値に変換済み\n",
    "# BsmtQualとBsmtCondを使ってBsmtQualityIndexを作成\n",
    "test_df['BsmtQualityIndex'] = test_df['BsmtQual'] * test_df['BsmtCond']\n",
    "\n",
    "# 地下室の露出マッピング\n",
    "exposure_mapping = {'Gd': 4, 'Av': 3, 'Mn': 2, 'No': 1, 'NA': 0}\n",
    "test_df['BsmtExposure_Score'] = test_df['BsmtExposure'].map(exposure_mapping)\n",
    "\n",
    "# 地下室完成タイプ1と2のマッピング\n",
    "fin_type_mapping = {'GLQ': 6, 'ALQ': 5, 'BLQ': 4, 'Rec': 3, 'LwQ': 2, 'Unf': 1, 'NA': 0}\n",
    "test_df['BsmtFinType1_Score'] = test_df['BsmtFinType1'].map(fin_type_mapping)\n",
    "test_df['BsmtFinType2_Score'] = test_df['BsmtFinType2'].map(fin_type_mapping)\n",
    "\n",
    "# 地下室の総仕上げレベル\n",
    "test_df['TotalBsmtFin'] = test_df['BsmtFinType1_Score'] + test_df['BsmtFinType2_Score']\n",
    "\n",
    "# 新しい特徴量を作成：質と条件の総合評価\n",
    "test_df['QualityCondition'] = test_df['OverallQual'] * test_df['OverallCond']\n",
    "\n",
    "# 質と条件の平均値を別の特徴量として加える\n",
    "test_df['AvgQualityCondition'] = (test_df['OverallQual'] + test_df['OverallCond']) / 2\n",
    "\n",
    "# ディレクトリが存在するか確認し、存在しない場合は作成\n",
    "save_dir = '/Users/hayakawakazue/Downloads/house_price/test'\n",
    "if not os.path.exists(save_dir):\n",
    "    os.makedirs(save_dir)\n",
    "\n",
    "# 保存\n",
    "data_cleaned_path = os.path.join(save_dir, 'test_new_feature_engineered.csv')\n",
    "test_df.to_csv(data_cleaned_path, index=False)\n",
    "\n",
    "print(f\"新しい特徴量を追加してデータを保存しました: {data_cleaned_path}\")\n"
   ]
  },
  {
   "cell_type": "code",
   "execution_count": null,
   "id": "3e8b4b0b-65a3-49d2-856b-8c8a67f4b610",
   "metadata": {},
   "outputs": [],
   "source": []
  }
 ],
 "metadata": {
  "kernelspec": {
   "display_name": "Python 3 (ipykernel)",
   "language": "python",
   "name": "python3"
  },
  "language_info": {
   "codemirror_mode": {
    "name": "ipython",
    "version": 3
   },
   "file_extension": ".py",
   "mimetype": "text/x-python",
   "name": "python",
   "nbconvert_exporter": "python",
   "pygments_lexer": "ipython3",
   "version": "3.11.7"
  }
 },
 "nbformat": 4,
 "nbformat_minor": 5
}
