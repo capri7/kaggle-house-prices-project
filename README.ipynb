{
 "cells": [
  {
   "cell_type": "markdown",
   "id": "5abf808a-f079-42bd-bd18-ac7d18500a3c",
   "metadata": {},
   "source": [
    "# Kaggle House Prices Prediction\n",
    "This repository contains code and resources for predicting house prices using machine learning techniques. \n",
    "This project was developed as part of the Kaggle competition \"House Prices - Advanced Regression Techniques\".\n",
    "\n",
    "## Overview\n",
    "In this project, we use various machine learning algorithms to predict the final price of houses based on various features. \n",
    "The dataset contains features such as the size of the house, the number of rooms, the year it was built, and more.\n",
    "\n",
    "## Requirements\n",
    "To run this project, you need the following dependencies:\n",
    "- Python 3.8+\n",
    "- pandas\n",
    "- numpy\n",
    "- scikit-learn\n",
    "- matplotlib\n",
    "- seaborn\n",
    "- jupyter\n",
    "\n",
    "You can install the required packages using `pip`:\n",
    "\n",
    "```bash\n",
    "pip install -r requirements.txt \n"
   ]
  },
  {
   "cell_type": "markdown",
   "id": "91692930-75ea-4f89-ac38-7c28c219c272",
   "metadata": {},
   "source": [
    "## Feature Engineering\n",
    "In the feature engineering step, we created new features such as:\n",
    "\n",
    "TotalArea: Sum of GrLivArea, TotalBsmtSF, and GarageArea\n",
    "QualityScore: Sum of quality-related features (OverallQual, ExterQual, KitchenQual, BsmtQual, HeatingQC)\n",
    "And more...\n",
    "For more details, refer to the 1_3_trainデータの前処理_新しい特徴量の作成.ipynb notebook.\n"
   ]
  },
  {
   "cell_type": "markdown",
   "id": "10c8403a-9446-4845-8203-d9fb8f42562e",
   "metadata": {},
   "source": [
    "## Model Training and Evaluation\n",
    "We trained several machine learning models including Random Forest, XGBoost, and LightGBM. \n",
    "The best performing model was a Random Forest with the following parameters:\n",
    "\n",
    "max_depth: 10\n",
    "max_features: 'sqrt'\n",
    "min_samples_leaf: 1\n",
    "min_samples_split: 5\n",
    "n_estimators: 100\n",
    "\n",
    "For more details, refer to the 1_6_trainデータをRandomForestでトレーニングし評価する.ipynb notebook."
   ]
  },
  {
   "cell_type": "markdown",
   "id": "c55c4f36-2053-4c8d-8d77-97314e61668a",
   "metadata": {},
   "source": [
    "## Results\n",
    "The final model achieved a Mean Absolute Error (MAE) of 15436.2778 and an R-squared (R2) of 0.9018 on the test set."
   ]
  },
  {
   "cell_type": "markdown",
   "id": "01257db3-4511-4908-9e87-060979733740",
   "metadata": {},
   "source": [
    "## Future Work\n",
    "Further tune the hyperparameters of the models.\n",
    "Explore additional feature engineering techniques.\n",
    "Try different ensemble methods to improve the prediction accuracy."
   ]
  },
  {
   "cell_type": "markdown",
   "id": "c67bcf51-08f2-4fb4-8dc1-456073429912",
   "metadata": {},
   "source": [
    "## Contributing\n",
    "Contributions are welcome! Please open an issue or submit a pull request for any improvements or bug fixes.\n"
   ]
  },
  {
   "cell_type": "code",
   "execution_count": null,
   "id": "252b33e6-7491-45ab-9669-0d3fbfb8938e",
   "metadata": {},
   "outputs": [],
   "source": []
  }
 ],
 "metadata": {
  "kernelspec": {
   "display_name": "Python 3 (ipykernel)",
   "language": "python",
   "name": "python3"
  },
  "language_info": {
   "codemirror_mode": {
    "name": "ipython",
    "version": 3
   },
   "file_extension": ".py",
   "mimetype": "text/x-python",
   "name": "python",
   "nbconvert_exporter": "python",
   "pygments_lexer": "ipython3",
   "version": "3.11.7"
  }
 },
 "nbformat": 4,
 "nbformat_minor": 5
}
